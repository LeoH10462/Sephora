{
 "cells": [
  {
   "cell_type": "code",
   "execution_count": 10,
   "metadata": {},
   "outputs": [],
   "source": [
    "import pandas as pd\n",
    "import numpy as np\n",
    "import matplotlib.pyplot as plt\n",
    "import seaborn as sns"
   ]
  },
  {
   "cell_type": "code",
   "execution_count": 11,
   "metadata": {},
   "outputs": [
    {
     "data": {
      "text/plain": [
       "(9168, 21)"
      ]
     },
     "execution_count": 11,
     "metadata": {},
     "output_type": "execute_result"
    }
   ],
   "source": [
    "df = pd.read_csv(\"sephora_website_dataset.csv\")\n",
    "df.shape"
   ]
  },
  {
   "cell_type": "code",
   "execution_count": 12,
   "metadata": {},
   "outputs": [
    {
     "data": {
      "text/html": [
       "<div>\n",
       "<style scoped>\n",
       "    .dataframe tbody tr th:only-of-type {\n",
       "        vertical-align: middle;\n",
       "    }\n",
       "\n",
       "    .dataframe tbody tr th {\n",
       "        vertical-align: top;\n",
       "    }\n",
       "\n",
       "    .dataframe thead th {\n",
       "        text-align: right;\n",
       "    }\n",
       "</style>\n",
       "<table border=\"1\" class=\"dataframe\">\n",
       "  <thead>\n",
       "    <tr style=\"text-align: right;\">\n",
       "      <th></th>\n",
       "      <th>id</th>\n",
       "      <th>brand</th>\n",
       "      <th>category</th>\n",
       "      <th>name</th>\n",
       "      <th>size</th>\n",
       "      <th>rating</th>\n",
       "      <th>number_of_reviews</th>\n",
       "      <th>love</th>\n",
       "      <th>price</th>\n",
       "      <th>value_price</th>\n",
       "      <th>...</th>\n",
       "      <th>MarketingFlags</th>\n",
       "      <th>MarketingFlags_content</th>\n",
       "      <th>options</th>\n",
       "      <th>details</th>\n",
       "      <th>how_to_use</th>\n",
       "      <th>ingredients</th>\n",
       "      <th>online_only</th>\n",
       "      <th>exclusive</th>\n",
       "      <th>limited_edition</th>\n",
       "      <th>limited_time_offer</th>\n",
       "    </tr>\n",
       "  </thead>\n",
       "  <tbody>\n",
       "    <tr>\n",
       "      <th>0</th>\n",
       "      <td>2218774</td>\n",
       "      <td>Acqua Di Parma</td>\n",
       "      <td>Fragrance</td>\n",
       "      <td>Blu Mediterraneo MINIATURE Set</td>\n",
       "      <td>5 x 0.16oz/5mL</td>\n",
       "      <td>4.0</td>\n",
       "      <td>4</td>\n",
       "      <td>3002</td>\n",
       "      <td>66.0</td>\n",
       "      <td>75.0</td>\n",
       "      <td>...</td>\n",
       "      <td>True</td>\n",
       "      <td>online only</td>\n",
       "      <td>no options</td>\n",
       "      <td>This enchanting set comes in a specially handc...</td>\n",
       "      <td>Suggested Usage:-Fragrance is intensified by t...</td>\n",
       "      <td>Arancia di Capri Eau de Toilette: Alcohol Dena...</td>\n",
       "      <td>1</td>\n",
       "      <td>0</td>\n",
       "      <td>0</td>\n",
       "      <td>0</td>\n",
       "    </tr>\n",
       "    <tr>\n",
       "      <th>1</th>\n",
       "      <td>2044816</td>\n",
       "      <td>Acqua Di Parma</td>\n",
       "      <td>Cologne</td>\n",
       "      <td>Colonia</td>\n",
       "      <td>0.7 oz/ 20 mL</td>\n",
       "      <td>4.5</td>\n",
       "      <td>76</td>\n",
       "      <td>2700</td>\n",
       "      <td>66.0</td>\n",
       "      <td>66.0</td>\n",
       "      <td>...</td>\n",
       "      <td>True</td>\n",
       "      <td>online only</td>\n",
       "      <td>- 0.7 oz/ 20 mL  Spray  - 1.7 oz/ 50 mL Eau d...</td>\n",
       "      <td>An elegant timeless scent filled with a fresh-...</td>\n",
       "      <td>no instructions</td>\n",
       "      <td>unknown</td>\n",
       "      <td>1</td>\n",
       "      <td>0</td>\n",
       "      <td>0</td>\n",
       "      <td>0</td>\n",
       "    </tr>\n",
       "    <tr>\n",
       "      <th>2</th>\n",
       "      <td>1417567</td>\n",
       "      <td>Acqua Di Parma</td>\n",
       "      <td>Perfume</td>\n",
       "      <td>Arancia di Capri</td>\n",
       "      <td>5 oz/ 148 mL</td>\n",
       "      <td>4.5</td>\n",
       "      <td>26</td>\n",
       "      <td>2600</td>\n",
       "      <td>180.0</td>\n",
       "      <td>180.0</td>\n",
       "      <td>...</td>\n",
       "      <td>True</td>\n",
       "      <td>online only</td>\n",
       "      <td>- 1oz/30mL Eau de Toilette  - 2.5 oz/ 74 mL E...</td>\n",
       "      <td>Fragrance Family: Fresh Scent Type: Fresh Citr...</td>\n",
       "      <td>no instructions</td>\n",
       "      <td>Alcohol Denat.- Water- Fragrance- Limonene- Li...</td>\n",
       "      <td>1</td>\n",
       "      <td>0</td>\n",
       "      <td>0</td>\n",
       "      <td>0</td>\n",
       "    </tr>\n",
       "  </tbody>\n",
       "</table>\n",
       "<p>3 rows × 21 columns</p>\n",
       "</div>"
      ],
      "text/plain": [
       "        id           brand   category                            name  \\\n",
       "0  2218774  Acqua Di Parma  Fragrance  Blu Mediterraneo MINIATURE Set   \n",
       "1  2044816  Acqua Di Parma    Cologne                         Colonia   \n",
       "2  1417567  Acqua Di Parma    Perfume                Arancia di Capri   \n",
       "\n",
       "             size  rating  number_of_reviews  love  price  value_price  ...  \\\n",
       "0  5 x 0.16oz/5mL     4.0                  4  3002   66.0         75.0  ...   \n",
       "1   0.7 oz/ 20 mL     4.5                 76  2700   66.0         66.0  ...   \n",
       "2    5 oz/ 148 mL     4.5                 26  2600  180.0        180.0  ...   \n",
       "\n",
       "  MarketingFlags  MarketingFlags_content  \\\n",
       "0           True             online only   \n",
       "1           True             online only   \n",
       "2           True             online only   \n",
       "\n",
       "                                             options  \\\n",
       "0                                         no options   \n",
       "1   - 0.7 oz/ 20 mL  Spray  - 1.7 oz/ 50 mL Eau d...   \n",
       "2   - 1oz/30mL Eau de Toilette  - 2.5 oz/ 74 mL E...   \n",
       "\n",
       "                                             details  \\\n",
       "0  This enchanting set comes in a specially handc...   \n",
       "1  An elegant timeless scent filled with a fresh-...   \n",
       "2  Fragrance Family: Fresh Scent Type: Fresh Citr...   \n",
       "\n",
       "                                          how_to_use  \\\n",
       "0  Suggested Usage:-Fragrance is intensified by t...   \n",
       "1                                    no instructions   \n",
       "2                                    no instructions   \n",
       "\n",
       "                                         ingredients online_only  exclusive  \\\n",
       "0  Arancia di Capri Eau de Toilette: Alcohol Dena...           1          0   \n",
       "1                                            unknown           1          0   \n",
       "2  Alcohol Denat.- Water- Fragrance- Limonene- Li...           1          0   \n",
       "\n",
       "   limited_edition  limited_time_offer  \n",
       "0                0                   0  \n",
       "1                0                   0  \n",
       "2                0                   0  \n",
       "\n",
       "[3 rows x 21 columns]"
      ]
     },
     "execution_count": 12,
     "metadata": {},
     "output_type": "execute_result"
    }
   ],
   "source": [
    "df.head(3)"
   ]
  },
  {
   "cell_type": "markdown",
   "metadata": {},
   "source": [
    "### Features"
   ]
  },
  {
   "cell_type": "code",
   "execution_count": 13,
   "metadata": {},
   "outputs": [
    {
     "data": {
      "text/plain": [
       "Index(['id', 'brand', 'category', 'name', 'size', 'rating',\n",
       "       'number_of_reviews', 'love', 'price', 'value_price', 'URL',\n",
       "       'MarketingFlags', 'MarketingFlags_content', 'options', 'details',\n",
       "       'how_to_use', 'ingredients', 'online_only', 'exclusive',\n",
       "       'limited_edition', 'limited_time_offer'],\n",
       "      dtype='object')"
      ]
     },
     "execution_count": 13,
     "metadata": {},
     "output_type": "execute_result"
    }
   ],
   "source": [
    "df.columns"
   ]
  },
  {
   "cell_type": "markdown",
   "metadata": {},
   "source": [
    "### Missing value"
   ]
  },
  {
   "cell_type": "code",
   "execution_count": 14,
   "metadata": {},
   "outputs": [
    {
     "data": {
      "text/plain": [
       "id                        0\n",
       "brand                     0\n",
       "category                  0\n",
       "name                      0\n",
       "size                      0\n",
       "rating                    0\n",
       "number_of_reviews         0\n",
       "love                      0\n",
       "price                     0\n",
       "value_price               0\n",
       "URL                       0\n",
       "MarketingFlags            0\n",
       "MarketingFlags_content    0\n",
       "options                   0\n",
       "details                   0\n",
       "how_to_use                0\n",
       "ingredients               0\n",
       "online_only               0\n",
       "exclusive                 0\n",
       "limited_edition           0\n",
       "limited_time_offer        0\n",
       "dtype: int64"
      ]
     },
     "execution_count": 14,
     "metadata": {},
     "output_type": "execute_result"
    }
   ],
   "source": [
    "df.isna().sum()"
   ]
  },
  {
   "cell_type": "code",
   "execution_count": 15,
   "metadata": {},
   "outputs": [
    {
     "data": {
      "text/html": [
       "<div>\n",
       "<style scoped>\n",
       "    .dataframe tbody tr th:only-of-type {\n",
       "        vertical-align: middle;\n",
       "    }\n",
       "\n",
       "    .dataframe tbody tr th {\n",
       "        vertical-align: top;\n",
       "    }\n",
       "\n",
       "    .dataframe thead th {\n",
       "        text-align: right;\n",
       "    }\n",
       "</style>\n",
       "<table border=\"1\" class=\"dataframe\">\n",
       "  <thead>\n",
       "    <tr style=\"text-align: right;\">\n",
       "      <th></th>\n",
       "      <th>id</th>\n",
       "      <th>rating</th>\n",
       "      <th>number_of_reviews</th>\n",
       "      <th>love</th>\n",
       "      <th>price</th>\n",
       "      <th>value_price</th>\n",
       "      <th>online_only</th>\n",
       "      <th>exclusive</th>\n",
       "      <th>limited_edition</th>\n",
       "      <th>limited_time_offer</th>\n",
       "    </tr>\n",
       "  </thead>\n",
       "  <tbody>\n",
       "    <tr>\n",
       "      <th>count</th>\n",
       "      <td>9.168000e+03</td>\n",
       "      <td>9168.000000</td>\n",
       "      <td>9168.000000</td>\n",
       "      <td>9.168000e+03</td>\n",
       "      <td>9168.000000</td>\n",
       "      <td>9168.00000</td>\n",
       "      <td>9168.000000</td>\n",
       "      <td>9168.000000</td>\n",
       "      <td>9168.000000</td>\n",
       "      <td>9168.000000</td>\n",
       "    </tr>\n",
       "    <tr>\n",
       "      <th>mean</th>\n",
       "      <td>1.962952e+06</td>\n",
       "      <td>3.990020</td>\n",
       "      <td>282.139180</td>\n",
       "      <td>1.627859e+04</td>\n",
       "      <td>50.063237</td>\n",
       "      <td>51.82359</td>\n",
       "      <td>0.234839</td>\n",
       "      <td>0.264725</td>\n",
       "      <td>0.091841</td>\n",
       "      <td>0.000327</td>\n",
       "    </tr>\n",
       "    <tr>\n",
       "      <th>std</th>\n",
       "      <td>3.859714e+05</td>\n",
       "      <td>1.007707</td>\n",
       "      <td>890.642028</td>\n",
       "      <td>4.260651e+04</td>\n",
       "      <td>47.164989</td>\n",
       "      <td>49.45902</td>\n",
       "      <td>0.423921</td>\n",
       "      <td>0.441211</td>\n",
       "      <td>0.288817</td>\n",
       "      <td>0.018087</td>\n",
       "    </tr>\n",
       "    <tr>\n",
       "      <th>min</th>\n",
       "      <td>5.000000e+01</td>\n",
       "      <td>0.000000</td>\n",
       "      <td>0.000000</td>\n",
       "      <td>0.000000e+00</td>\n",
       "      <td>2.000000</td>\n",
       "      <td>2.00000</td>\n",
       "      <td>0.000000</td>\n",
       "      <td>0.000000</td>\n",
       "      <td>0.000000</td>\n",
       "      <td>0.000000</td>\n",
       "    </tr>\n",
       "    <tr>\n",
       "      <th>25%</th>\n",
       "      <td>1.819453e+06</td>\n",
       "      <td>4.000000</td>\n",
       "      <td>10.000000</td>\n",
       "      <td>1.600000e+03</td>\n",
       "      <td>24.000000</td>\n",
       "      <td>25.00000</td>\n",
       "      <td>0.000000</td>\n",
       "      <td>0.000000</td>\n",
       "      <td>0.000000</td>\n",
       "      <td>0.000000</td>\n",
       "    </tr>\n",
       "    <tr>\n",
       "      <th>50%</th>\n",
       "      <td>2.072354e+06</td>\n",
       "      <td>4.000000</td>\n",
       "      <td>46.000000</td>\n",
       "      <td>4.800000e+03</td>\n",
       "      <td>35.000000</td>\n",
       "      <td>35.00000</td>\n",
       "      <td>0.000000</td>\n",
       "      <td>0.000000</td>\n",
       "      <td>0.000000</td>\n",
       "      <td>0.000000</td>\n",
       "    </tr>\n",
       "    <tr>\n",
       "      <th>75%</th>\n",
       "      <td>2.230591e+06</td>\n",
       "      <td>4.500000</td>\n",
       "      <td>210.000000</td>\n",
       "      <td>1.380000e+04</td>\n",
       "      <td>59.000000</td>\n",
       "      <td>60.00000</td>\n",
       "      <td>0.000000</td>\n",
       "      <td>1.000000</td>\n",
       "      <td>0.000000</td>\n",
       "      <td>0.000000</td>\n",
       "    </tr>\n",
       "    <tr>\n",
       "      <th>max</th>\n",
       "      <td>2.359685e+06</td>\n",
       "      <td>5.000000</td>\n",
       "      <td>19000.000000</td>\n",
       "      <td>1.300000e+06</td>\n",
       "      <td>549.000000</td>\n",
       "      <td>549.00000</td>\n",
       "      <td>1.000000</td>\n",
       "      <td>1.000000</td>\n",
       "      <td>1.000000</td>\n",
       "      <td>1.000000</td>\n",
       "    </tr>\n",
       "  </tbody>\n",
       "</table>\n",
       "</div>"
      ],
      "text/plain": [
       "                 id       rating  number_of_reviews          love  \\\n",
       "count  9.168000e+03  9168.000000        9168.000000  9.168000e+03   \n",
       "mean   1.962952e+06     3.990020         282.139180  1.627859e+04   \n",
       "std    3.859714e+05     1.007707         890.642028  4.260651e+04   \n",
       "min    5.000000e+01     0.000000           0.000000  0.000000e+00   \n",
       "25%    1.819453e+06     4.000000          10.000000  1.600000e+03   \n",
       "50%    2.072354e+06     4.000000          46.000000  4.800000e+03   \n",
       "75%    2.230591e+06     4.500000         210.000000  1.380000e+04   \n",
       "max    2.359685e+06     5.000000       19000.000000  1.300000e+06   \n",
       "\n",
       "             price  value_price  online_only    exclusive  limited_edition  \\\n",
       "count  9168.000000   9168.00000  9168.000000  9168.000000      9168.000000   \n",
       "mean     50.063237     51.82359     0.234839     0.264725         0.091841   \n",
       "std      47.164989     49.45902     0.423921     0.441211         0.288817   \n",
       "min       2.000000      2.00000     0.000000     0.000000         0.000000   \n",
       "25%      24.000000     25.00000     0.000000     0.000000         0.000000   \n",
       "50%      35.000000     35.00000     0.000000     0.000000         0.000000   \n",
       "75%      59.000000     60.00000     0.000000     1.000000         0.000000   \n",
       "max     549.000000    549.00000     1.000000     1.000000         1.000000   \n",
       "\n",
       "       limited_time_offer  \n",
       "count         9168.000000  \n",
       "mean             0.000327  \n",
       "std              0.018087  \n",
       "min              0.000000  \n",
       "25%              0.000000  \n",
       "50%              0.000000  \n",
       "75%              0.000000  \n",
       "max              1.000000  "
      ]
     },
     "execution_count": 15,
     "metadata": {},
     "output_type": "execute_result"
    }
   ],
   "source": [
    "df.describe()"
   ]
  },
  {
   "cell_type": "markdown",
   "metadata": {},
   "source": [
    "### Distribuition of rating"
   ]
  },
  {
   "cell_type": "code",
   "execution_count": 16,
   "metadata": {},
   "outputs": [
    {
     "data": {
      "image/png": "[encoded data removed]",
      "text/plain": [
       "<Figure size 640x480 with 1 Axes>"
      ]
     },
     "metadata": {},
     "output_type": "display_data"
    }
   ],
   "source": [
    "sns.histplot(df['rating'], kde =True)\n",
    "plt.title('Distribution of Rating')\n",
    "plt.show()"
   ]
  },
  {
   "cell_type": "markdown",
   "metadata": {},
   "source": [
    "### Distribuition of price"
   ]
  },
  {
   "cell_type": "code",
   "execution_count": 19,
   "metadata": {},
   "outputs": [
    {
     "data": {
      "image/png": "[encoded data removed]",
      "text/plain": [
       "<Figure size 640x480 with 1 Axes>"
      ]
     },
     "metadata": {},
     "output_type": "display_data"
    }
   ],
   "source": [
    "sns.histplot(df['price'], kde =True)\n",
    "plt.title('Distribution of Price')\n",
    "plt.show()"
   ]
  },
  {
   "cell_type": "code",
   "execution_count": null,
   "metadata": {},
   "outputs": [],
   "source": []
  }
 ],
 "metadata": {
  "kernelspec": {
   "display_name": "Python 3",
   "language": "python",
   "name": "python3"
  },
  "language_info": {
   "codemirror_mode": {
    "name": "ipython",
    "version": 3
   },
   "file_extension": ".py",
   "mimetype": "text/x-python",
   "name": "python",
   "nbconvert_exporter": "python",
   "pygments_lexer": "ipython3",
   "version": "3.8.18"
  }
 },
 "nbformat": 4,
 "nbformat_minor": 2
}
